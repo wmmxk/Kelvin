{
 "cells": [
  {
   "cell_type": "code",
   "execution_count": 105,
   "metadata": {
    "collapsed": true
   },
   "outputs": [],
   "source": [
    "#convert that column to int, showing which element is not a number"
   ]
  },
  {
   "cell_type": "code",
   "execution_count": 106,
   "metadata": {},
   "outputs": [],
   "source": [
    "import numpy as np\n",
    "import pandas as pd\n",
    "\n",
    "\n",
    "from sklearn.cross_validation import KFold\n",
    "from sklearn.metrics import mean_absolute_error\n",
    "from sklearn.gaussian_process.kernels import RBF,Matern\n",
    "from sklearn.gaussian_process import GaussianProcessRegressor\n",
    "\n",
    "import pickle\n",
    "\n",
    "from matplotlib import pyplot as plt\n",
    "import matplotlib as mpl\n",
    "mpl.rcParams['figure.dpi']= 200\n",
    "%matplotlib inline\n",
    "import scipy\n"
   ]
  },
  {
   "cell_type": "code",
   "execution_count": 107,
   "metadata": {
    "collapsed": true
   },
   "outputs": [],
   "source": [
    "def preprocess(file_path,y_label,ratio= 0.7):\n",
    "    \n",
    "    tr_te = pd.read_excel(file_path, sheetname='Sheet1')\n",
    "    tr_te = pd.get_dummies(tr_te)\n",
    "    tr_te = tr_te.loc[:, tr_te.var() != 0.0]\n",
    "    tr_te  = tr_te.apply(lambda x: (x - np.mean(x)) / (np.max(x) - np.min(x)))\n",
    "    X = tr_te.drop(['runtime','ev_rolledback'], axis = 1)\n",
    "    features = X.columns\n",
    "    X = X.values\n",
    "    Y = tr_te[y_label].values\n",
    "\n",
    "    num = X.shape[0]\n",
    "    num_tr = int(num*ratio)\n",
    "\n",
    "    xtrain = X[:num_tr,:]\n",
    "    y = Y[:num_tr]\n",
    "    xtest = X[num_tr:]\n",
    "    ytest = Y[num_tr:]\n",
    "    return (xtrain,y,xtest,ytest)"
   ]
  },
  {
   "cell_type": "code",
   "execution_count": 112,
   "metadata": {},
   "outputs": [],
   "source": [
    "def cross_val(xtrain,y,xtest):\n",
    "    nfolds = 5\n",
    "    folds = KFold(len(y), n_folds = nfolds, shuffle = True, random_state = 2018)\n",
    "\n",
    "    # create two arrays to hold the prediction on training set and testing set\n",
    "    preds_train = np.zeros(xtrain.shape[0])\n",
    "    preds_test = np.zeros(xtest.shape[0])\n",
    "\n",
    "    fold_index = 1\n",
    "    for (inTr, inVal) in folds:\n",
    "        # split the training set \n",
    "        xtr = xtrain[inTr]\n",
    "        ytr = y[inTr]\n",
    "        xval = xtrain[inVal] \n",
    "        yval = y[inVal]\n",
    "\n",
    "        # Define a isotropic Matern kernel\n",
    "        kernel_Matern = 1.0 * Matern([1.0]*xtrain.shape[1])\n",
    "\n",
    "        # train and save the trained model\n",
    "        file_name = '../trained_model/gp'+str(fold_index)+\".sav\"\n",
    "        gp = GaussianProcessRegressor(kernel = kernel_Matern, n_restarts_optimizer=1)\n",
    "        gp.fit(xtr, ytr)\n",
    "        pickle.dump(gp, open(file_name, 'wb'))\n",
    "\n",
    "        # predict on the validation set\n",
    "        pred = gp.predict(xval, return_std=False)\n",
    "        score = mean_absolute_error(yval, pred)\n",
    "        preds_train[inVal] = pred\n",
    "        print('Fold ', fold_index, '- MAE:', score)\n",
    "        fold_index += 1\n",
    "        preds_test += gp.predict(xtest,return_std = False)\n",
    "\n",
    "    # average and save the predictions on testing set \n",
    "    preds_test /= nfolds \n",
    "    return (preds_test,preds_train)\n",
    " "
   ]
  },
  {
   "cell_type": "code",
   "execution_count": 114,
   "metadata": {
    "scrolled": true
   },
   "outputs": [],
   "source": [
    "def visualize_pre(ytest,preds_test):\n",
    "    fig = plt.figure(figsize= (6,4))\n",
    "\n",
    "    plt.scatter(ytest,preds_test)\n",
    "    plt.xlabel('Truth')\n",
    "    plt.ylabel('Prediction')\n",
    "\n",
    "    PCC = round(scipy.stats.pearsonr(ytest,preds_test)[0],3)\n",
    "\n",
    "    plt.text(np.min(ytest)*1.1, 0.95*np.max(preds_test), r'PCC='+str(PCC),\n",
    "             fontsize=10)"
   ]
  },
  {
   "cell_type": "code",
   "execution_count": 119,
   "metadata": {
    "scrolled": false
   },
   "outputs": [
    {
     "name": "stdout",
     "output_type": "stream",
     "text": [
      "Fold  1 - MAE: 1.73188703022e-05\n"
     ]
    },
    {
     "name": "stderr",
     "output_type": "stream",
     "text": [
      "/home/wxk/anaconda2/envs/py3/lib/python3.6/site-packages/sklearn/gaussian_process/gpr.py:457: UserWarning: fmin_l_bfgs_b terminated abnormally with the  state: {'grad': array([  2.54167849e-03,  -3.02889208e+00,  -1.49927434e-01,\n",
      "        -1.19316811e-02,  -2.88431671e-01,  -9.48100716e-01,\n",
      "        -1.23414656e-02,  -7.48593659e-03,  -1.58438885e-02,\n",
      "        -1.10054219e-01,  -3.58399328e-03,   1.50629911e-02,\n",
      "        -2.33102051e-02,  -5.61442432e-03,  -5.61442432e-03,\n",
      "        -2.77989029e+00,  -2.45863654e+00,  -3.04619763e+00,\n",
      "        -4.66082548e-05,  -0.00000000e+00,  -8.43437689e-05]), 'task': b'ABNORMAL_TERMINATION_IN_LNSRCH', 'funcalls': 86, 'nit': 34, 'warnflag': 2}\n",
      "  \" state: %s\" % convergence_dict)\n"
     ]
    },
    {
     "name": "stdout",
     "output_type": "stream",
     "text": [
      "Fold  2 - MAE: 2.95910665118e-06\n",
      "Fold  3 - MAE: 1.49760694584e-06\n",
      "Fold  4 - MAE: 5.9332078357e-05\n",
      "Fold  5 - MAE: 1.37202936593e-06\n"
     ]
    },
    {
     "data": {
      "image/png": "[encoded data removed]",
      "text/plain": [
       "<matplotlib.figure.Figure at 0x7f6bbfa6a4e0>"
      ]
     },
     "metadata": {},
     "output_type": "display_data"
    }
   ],
   "source": [
    "file_path = \"../data/dfly-scaling-data.xlsx\"\n",
    "xtrain, y, xtest,ytest = preprocess(file_path,'runtime')\n",
    "preds_test, preds_train = cross_val(xtrain,y,xtest)\n",
    "visualize_pre(ytest,preds_test)"
   ]
  },
  {
   "cell_type": "code",
   "execution_count": 115,
   "metadata": {},
   "outputs": [
    {
     "data": {
      "image/png": "[encoded data removed]",
      "text/plain": [
       "<matplotlib.figure.Figure at 0x7f6bbfd6b240>"
      ]
     },
     "metadata": {},
     "output_type": "display_data"
    }
   ],
   "source": []
  },
  {
   "cell_type": "code",
   "execution_count": 104,
   "metadata": {
    "scrolled": true
   },
   "outputs": [
    {
     "data": {
      "text/plain": [
       "<matplotlib.text.Text at 0x7f6bbfa38978>"
      ]
     },
     "execution_count": 104,
     "metadata": {},
     "output_type": "execute_result"
    },
    {
     "data": {
      "image/png": "[encoded data removed]",
      "text/plain": [
       "<matplotlib.figure.Figure at 0x7f6bbfc80390>"
      ]
     },
     "metadata": {},
     "output_type": "display_data"
    }
   ],
   "source": [
    "# visualize the prediction on the training set\n",
    "fig = plt.figure(figsize= (6,4))\n",
    "\n",
    "plt.scatter(y,preds_train)\n",
    "plt.xlabel('Truth')\n",
    "plt.ylabel('Prediction')\n",
    "\n",
    "PCC = round(scipy.stats.pearsonr(y,preds_train)[0],3)\n",
    "\n",
    "plt.text(np.min(y)*1.1, 0.95*np.max(preds_train), r'PCC='+str(PCC),\n",
    "         fontsize=10)"
   ]
  },
  {
   "cell_type": "code",
   "execution_count": null,
   "metadata": {
    "collapsed": true
   },
   "outputs": [],
   "source": []
  }
 ],
 "metadata": {
  "kernelspec": {
   "display_name": "Python 3",
   "language": "python",
   "name": "python3"
  },
  "language_info": {
   "codemirror_mode": {
    "name": "ipython",
    "version": 3
   },
   "file_extension": ".py",
   "mimetype": "text/x-python",
   "name": "python",
   "nbconvert_exporter": "python",
   "pygments_lexer": "ipython3",
   "version": "3.6.1"
  }
 },
 "nbformat": 4,
 "nbformat_minor": 2
}
